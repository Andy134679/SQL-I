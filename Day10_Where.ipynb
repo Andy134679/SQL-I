{
 "cells": [
  {
   "attachments": {},
   "cell_type": "markdown",
   "metadata": {},
   "source": [
    "182. Duplicate Emails\n",
    "\n",
    "Table: Person\n",
    "\n",
    "+-------------+---------+\n",
    "\n",
    "| Column Name | Type    |\n",
    "\n",
    "+-------------+---------+\n",
    "\n",
    "| id          | int     |\n",
    "\n",
    "| email       | varchar |\n",
    "\n",
    "+-------------+---------+\n",
    "\n",
    "id is the primary key column for this table.\n",
    "Each row of this table contains an email. The emails will not contain uppercase letters.\n",
    " \n",
    "\n",
    "Write an SQL query to report all the duplicate emails. Note that it's guaranteed that the email field is not NULL.\n",
    "\n",
    "Return the result table in any order."
   ]
  },
  {
   "cell_type": "code",
   "execution_count": null,
   "metadata": {
    "vscode": {
     "languageId": "sql"
    }
   },
   "outputs": [],
   "source": [
    "# Write your MySQL query statement below\n",
    "SELECT\n",
    "email\n",
    "FROM Person\n",
    "GROUP BY email\n",
    "HAVING count(email) > 1"
   ]
  },
  {
   "attachments": {},
   "cell_type": "markdown",
   "metadata": {},
   "source": [
    "1050. Actors and Directors Who Cooperated At Least Three Times\n",
    "\n",
    "Table: ActorDirector\n",
    "\n",
    "+-------------+---------+\n",
    "\n",
    "| Column Name | Type    |\n",
    "\n",
    "+-------------+---------+\n",
    "\n",
    "| actor_id    | int     |\n",
    "\n",
    "| director_id | int     |\n",
    "\n",
    "| timestamp   | int     |\n",
    "\n",
    "+-------------+---------+\n",
    "\n",
    "timestamp is the primary key column for this table.\n",
    " \n",
    "\n",
    "Write a SQL query for a report that provides the pairs (actor_id, director_id) where the actor has cooperated with the director at least three times.\n",
    "\n",
    "Return the result table in any order."
   ]
  },
  {
   "cell_type": "code",
   "execution_count": null,
   "metadata": {
    "vscode": {
     "languageId": "sql"
    }
   },
   "outputs": [],
   "source": [
    "# Write your MySQL query statement below\n",
    "SELECT\n",
    "actor_id, director_id\n",
    "FROM ActorDirector\n",
    "GROUP BY actor_id, director_id\n",
    "HAVING count(actor_id) >= 3"
   ]
  },
  {
   "attachments": {},
   "cell_type": "markdown",
   "metadata": {},
   "source": [
    "1587. Bank Account Summary II\n",
    "\n",
    "Table: Users\n",
    "\n",
    "+--------------+---------+\n",
    "\n",
    "| Column Name  | Type    |\n",
    "\n",
    "+--------------+---------+\n",
    "\n",
    "| account      | int     |\n",
    "\n",
    "| name         | varchar |\n",
    "\n",
    "+--------------+---------+\n",
    "\n",
    "account is the primary key for this table.\n",
    "Each row of this table contains the account number of each user in the bank.\n",
    "There will be no two users having the same name in the table.\n",
    " \n",
    "\n",
    "Table: Transactions\n",
    "\n",
    "+---------------+---------+\n",
    "\n",
    "| Column Name   | Type    |\n",
    "\n",
    "+---------------+---------+\n",
    "\n",
    "| trans_id      | int     |\n",
    "\n",
    "| account       | int     |\n",
    "\n",
    "| amount        | int     |\n",
    "\n",
    "| transacted_on | date    |\n",
    "\n",
    "+---------------+---------+\n",
    "\n",
    "trans_id is the primary key for this table.\n",
    "Each row of this table contains all changes made to all accounts.\n",
    "amount is positive if the user received money and negative if they transferred money.\n",
    "All accounts start with a balance of 0.\n",
    " \n",
    "\n",
    "Write an SQL query to report the name and balance of users with a balance higher than 10000. The balance of an account is equal to the sum of the amounts of all transactions involving that account.\n",
    "\n",
    "Return the result table in any order."
   ]
  },
  {
   "cell_type": "code",
   "execution_count": null,
   "metadata": {
    "vscode": {
     "languageId": "sql"
    }
   },
   "outputs": [],
   "source": [
    "# Write your MySQL query statement below\n",
    "SELECT\n",
    "name, SUM(amount) as balance\n",
    "FROM Users LEFT JOIN Transactions USING(account)\n",
    "GROUP BY account\n",
    "HAVING balance > 10000"
   ]
  },
  {
   "attachments": {},
   "cell_type": "markdown",
   "metadata": {},
   "source": [
    "1084. Sales Analysis III\n",
    "\n",
    "Table: Product\n",
    "\n",
    "+--------------+---------+\n",
    "\n",
    "| Column Name  | Type    |\n",
    "\n",
    "+--------------+---------+\n",
    "\n",
    "| product_id   | int     |\n",
    "\n",
    "| product_name | varchar |\n",
    "\n",
    "| unit_price   | int     |\n",
    "\n",
    "+--------------+---------+\n",
    "\n",
    "product_id is the primary key of this table.\n",
    "Each row of this table indicates the name and the price of each product.\n",
    "Table: Sales\n",
    "\n",
    "+-------------+---------+\n",
    "\n",
    "| Column Name | Type    |\n",
    "\n",
    "+-------------+---------+\n",
    "\n",
    "| seller_id   | int     |\n",
    "\n",
    "| product_id  | int     |\n",
    "\n",
    "| buyer_id    | int     |\n",
    "\n",
    "| sale_date   | date    |\n",
    "\n",
    "| quantity    | int     |\n",
    "\n",
    "| price       | int     |\n",
    "\n",
    "+-------------+---------+\n",
    "\n",
    "This table has no primary key, it can have repeated rows.\n",
    "product_id is a foreign key to the Product table.\n",
    "Each row of this table contains some information about one sale.\n",
    " \n",
    "\n",
    "Write an SQL query that reports the products that were only sold in the first quarter of 2019. That is, between 2019-01-01 and 2019-03-31 inclusive.\n",
    "\n",
    "Return the result table in any order."
   ]
  },
  {
   "cell_type": "code",
   "execution_count": null,
   "metadata": {
    "vscode": {
     "languageId": "sql"
    }
   },
   "outputs": [],
   "source": [
    "# Write your MySQL query statement below\n",
    "SELECT\n",
    "product_id, product_name\n",
    "FROM Sales LEFT JOIN Product USING(product_id)\n",
    "GROUP BY product_id, product_name\n",
    "HAVING max(sale_date) <= '2019-03-31' and min(sale_date) >= '2019-01-01'"
   ]
  }
 ],
 "metadata": {
  "language_info": {
   "name": "python"
  },
  "orig_nbformat": 4
 },
 "nbformat": 4,
 "nbformat_minor": 2
}
