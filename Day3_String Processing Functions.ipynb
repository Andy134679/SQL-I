{
 "cells": [
  {
   "attachments": {},
   "cell_type": "markdown",
   "metadata": {},
   "source": [
    "1667. Fix Names in a Table\n",
    "\n",
    "Table: Users\n",
    "\n",
    "+----------------+---------+\n",
    "\n",
    "| Column Name    | Type    |\n",
    "\n",
    "+----------------+---------+\n",
    "\n",
    "| user_id        | int     |\n",
    "\n",
    "| name           | varchar |\n",
    "\n",
    "+----------------+---------+\n",
    "\n",
    "user_id is the primary key for this table.\n",
    "This table contains the ID and the name of the user. The name consists of only lowercase and uppercase characters.\n",
    " \n",
    "\n",
    "Write an SQL query to fix the names so that only the first character is uppercase and the rest are lowercase.\n",
    "\n",
    "Return the result table ordered by user_id.\n",
    "\n",
    "The query result format is in the following example."
   ]
  },
  {
   "cell_type": "code",
   "execution_count": null,
   "metadata": {
    "vscode": {
     "languageId": "sql"
    }
   },
   "outputs": [],
   "source": [
    "SELECT\n",
    "user_id, CONCAT(UCASE(MID(name, 1,1)), LCASE(MID(name, 2))) AS name\n",
    "FROM Users\n",
    "ORDER BY user_id"
   ]
  },
  {
   "attachments": {},
   "cell_type": "markdown",
   "metadata": {},
   "source": [
    "1484. Group Sold Products By The Date\n",
    "\n",
    "Table Activities:\n",
    "\n",
    "+-------------+---------+\n",
    "\n",
    "| Column Name | Type    |\n",
    "\n",
    "+-------------+---------+\n",
    "\n",
    "| sell_date   | date    |\n",
    "\n",
    "| product     | varchar |\n",
    "\n",
    "+-------------+---------+\n",
    "\n",
    "There is no primary key for this table, it may contain duplicates.\n",
    "Each row of this table contains the product name and the date it was sold in a market.\n",
    " \n",
    "\n",
    "Write an SQL query to find for each date the number of different products sold and their names.\n",
    "\n",
    "The sold products names for each date should be sorted lexicographically.\n",
    "\n",
    "Return the result table ordered by sell_date.\n",
    "\n",
    "The query result format is in the following example.\n",
    "\n"
   ]
  },
  {
   "cell_type": "code",
   "execution_count": null,
   "metadata": {
    "vscode": {
     "languageId": "sql"
    }
   },
   "outputs": [],
   "source": [
    "SELECT\n",
    "sell_date, COUNT(DISTINCT product) as num_sold, \n",
    "GROUP_CONCAT(DISTINCT product order by product ASC) as products\n",
    "FROM Activities\n",
    "GROUP BY sell_date\n",
    "ORDER BY sell_date"
   ]
  },
  {
   "attachments": {},
   "cell_type": "markdown",
   "metadata": {},
   "source": [
    "1527. Patients With a Condition\n",
    "\n",
    "Table: Patients\n",
    "\n",
    "+--------------+---------+\n",
    "\n",
    "| Column Name  | Type    |\n",
    "\n",
    "+--------------+---------+\n",
    "\n",
    "| patient_id   | int     |\n",
    "\n",
    "| patient_name | varchar |\n",
    "\n",
    "| conditions   | varchar |\n",
    "\n",
    "+--------------+---------+\n",
    "\n",
    "patient_id is the primary key for this table.\n",
    "'conditions' contains 0 or more code separated by spaces. \n",
    "This table contains information of the patients in the hospital.\n",
    " \n",
    "\n",
    "Write an SQL query to report the patient_id, patient_name and conditions of the patients who have Type I Diabetes. Type I Diabetes always starts with DIAB1 prefix.\n",
    "\n",
    "Return the result table in any order.\n",
    "\n",
    "The query result format is in the following example."
   ]
  },
  {
   "cell_type": "code",
   "execution_count": null,
   "metadata": {
    "vscode": {
     "languageId": "sql"
    }
   },
   "outputs": [],
   "source": [
    "-- \"\\\\b\" is a word boundary, so it will match the beginning or non-word characters a word(in this case will be the space before the word)\n",
    "SELECT\n",
    "patient_id, patient_name, conditions\n",
    "FROM Patients\n",
    "WHERE conditions REGEXP '\\\\bDIAB1'"
   ]
  }
 ],
 "metadata": {
  "language_info": {
   "name": "python"
  },
  "orig_nbformat": 4
 },
 "nbformat": 4,
 "nbformat_minor": 2
}
