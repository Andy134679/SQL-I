{
 "cells": [
  {
   "attachments": {},
   "cell_type": "markdown",
   "metadata": {},
   "source": [
    "1873. Calculate Special Bonus\n",
    "\n",
    "Table: Employees\n",
    "\n",
    "+-------------+---------+\n",
    "\n",
    "| Column Name | Type    |\n",
    "\n",
    "+-------------+---------+\n",
    "\n",
    "| employee_id | int     |\n",
    "\n",
    "| name        | varchar |\n",
    "\n",
    "| salary      | int     |\n",
    "\n",
    "+-------------+---------+\n",
    "\n",
    "employee_id is the primary key for this table.\n",
    "Each row of this table indicates the employee ID, employee name, and salary.\n",
    " \n",
    "\n",
    "Write an SQL query to calculate the bonus of each employee. The bonus of an employee is 100% of their salary if the ID of the employee is an odd number and the employee name does not start with the character 'M'. The bonus of an employee is 0 otherwise.\n",
    "\n",
    "Return the result table ordered by employee_id.\n",
    "\n",
    "The query result format is in the following example."
   ]
  },
  {
   "cell_type": "code",
   "execution_count": null,
   "metadata": {
    "vscode": {
     "languageId": "sql"
    }
   },
   "outputs": [],
   "source": [
    "SELECT\n",
    "employee_id, \n",
    "CASE \n",
    "    WHEN employee_id % 2 = 1 AND name NOT LIKE 'M%' THEN salary ELSE 0 \n",
    "END as bonus\n",
    "FROM Employees\n",
    "ORDER BY employee_id;"
   ]
  },
  {
   "attachments": {},
   "cell_type": "markdown",
   "metadata": {},
   "source": [
    "627. Swap Salary\n",
    "\n",
    "Table: Salary\n",
    "\n",
    "+-------------+----------+\n",
    "\n",
    "| Column Name | Type     |\n",
    "\n",
    "+-------------+----------+\n",
    "\n",
    "| id          | int      |\n",
    "\n",
    "| name        | varchar  |\n",
    "\n",
    "| sex         | ENUM     |\n",
    "\n",
    "| salary      | int      |\n",
    "\n",
    "+-------------+----------+\n",
    "\n",
    "id is the primary key for this table.\n",
    "The sex column is ENUM value of type ('m', 'f').\n",
    "The table contains information about an employee.\n",
    " \n",
    "\n",
    "Write an SQL query to swap all 'f' and 'm' values (i.e., change all 'f' values to 'm' and vice versa) with a single update statement and no intermediate temporary tables.\n",
    "\n",
    "Note that you must write a single update statement, do not write any select statement for this problem.\n",
    "\n",
    "The query result format is in the following example."
   ]
  },
  {
   "cell_type": "code",
   "execution_count": null,
   "metadata": {
    "vscode": {
     "languageId": "sql"
    }
   },
   "outputs": [],
   "source": [
    "UPDATE salary SET sex = \n",
    "CASE sex\n",
    "    WHEN 'm' THEN 'f'\n",
    "    ELSE 'm'\n",
    "END;"
   ]
  },
  {
   "attachments": {},
   "cell_type": "markdown",
   "metadata": {},
   "source": [
    "196. Delete Duplicate Emails\n",
    "\n",
    "Table: Person\n",
    "\n",
    "+-------------+---------+\n",
    "\n",
    "| Column Name | Type    |\n",
    "\n",
    "+-------------+---------+\n",
    "\n",
    "| id          | int     |\n",
    "\n",
    "| email       | varchar |\n",
    "\n",
    "+-------------+---------+\n",
    "\n",
    "id is the primary key column for this table.\n",
    "Each row of this table contains an email. The emails will not contain uppercase letters.\n",
    " \n",
    "\n",
    "Write an SQL query to delete all the duplicate emails, keeping only one unique email with the smallest id. Note that you are supposed to write a DELETE statement and not a SELECT one.\n",
    "\n",
    "After running your script, the answer shown is the Person table. The driver will first compile and run your piece of code and then show the Person table. The final order of the Person table does not matter.\n",
    "\n",
    "The query result format is in the following example."
   ]
  },
  {
   "cell_type": "code",
   "execution_count": null,
   "metadata": {
    "vscode": {
     "languageId": "sql"
    }
   },
   "outputs": [],
   "source": [
    "DELETE p1\n",
    "FROM Person p1, Person p2\n",
    "WHERE\n",
    "p1.email = p2.email AND p1.id > p2.id"
   ]
  }
 ],
 "metadata": {
  "language_info": {
   "name": "python"
  },
  "orig_nbformat": 4
 },
 "nbformat": 4,
 "nbformat_minor": 2
}
