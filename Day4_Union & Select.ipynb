{
 "cells": [
  {
   "attachments": {},
   "cell_type": "markdown",
   "metadata": {},
   "source": [
    "1965. Employees With Missing Information\n",
    "\n",
    "Table: Employees\n",
    "\n",
    "+-------------+---------+\n",
    "\n",
    "| Column Name | Type    |\n",
    "\n",
    "+-------------+---------+\n",
    "\n",
    "| employee_id | int     |\n",
    "\n",
    "| name        | varchar |\n",
    "\n",
    "+-------------+---------+\n",
    "\n",
    "employee_id is the primary key for this table.\n",
    "Each row of this table indicates the name of the employee whose ID is employee_id.\n",
    " \n",
    "\n",
    "Table: Salaries\n",
    "\n",
    "+-------------+---------+\n",
    "\n",
    "| Column Name | Type    |\n",
    "\n",
    "+-------------+---------+\n",
    "\n",
    "| employee_id | int     |\n",
    "\n",
    "| salary      | int     |\n",
    "\n",
    "+-------------+---------+\n",
    "\n",
    "employee_id is the primary key for this table.\n",
    "Each row of this table indicates the salary of the employee whose ID is employee_id.\n",
    " \n",
    "\n",
    "Write an SQL query to report the IDs of all the employees with missing information. The information of an employee is missing if:\n",
    "\n",
    "The employee's name is missing, or\n",
    "The employee's salary is missing.\n",
    "Return the result table ordered by employee_id in ascending order.\n",
    "\n",
    "The query result format is in the following example."
   ]
  },
  {
   "cell_type": "code",
   "execution_count": null,
   "metadata": {
    "vscode": {
     "languageId": "sql"
    }
   },
   "outputs": [],
   "source": [
    "SELECT\n",
    "employee_id\n",
    "FROM \n",
    "(SELECT * FROM Employees LEFT JOIN Salaries USING(employee_id)\n",
    "UNION\n",
    "SELECT * FROM Employees RIGHT JOIN Salaries USING(employee_id)) as a\n",
    "WHERE a.name is null or a.salary is null\n",
    "ORDER BY employee_id"
   ]
  },
  {
   "attachments": {},
   "cell_type": "markdown",
   "metadata": {},
   "source": [
    "1795. Rearrange Products Table\n",
    "\n",
    "Table: Products\n",
    "\n",
    "+-------------+---------+\n",
    "\n",
    "| Column Name | Type    |\n",
    "\n",
    "+-------------+---------+\n",
    "\n",
    "| product_id  | int     |\n",
    "\n",
    "| store1      | int     |\n",
    "\n",
    "| store2      | int     |\n",
    "\n",
    "| store3      | int     |\n",
    "\n",
    "+-------------+---------+\n",
    "\n",
    "product_id is the primary key for this table.\n",
    "Each row in this table indicates the product's price in 3 different stores: store1, store2, and store3.\n",
    "If the product is not available in a store, the price will be null in that store's column.\n",
    " \n",
    "\n",
    "Write an SQL query to rearrange the Products table so that each row has (product_id, store, price). If a product is not available in a store, do not include a row with that product_id and store combination in the result table.\n",
    "\n",
    "Return the result table in any order.\n",
    "\n",
    "The query result format is in the following example."
   ]
  },
  {
   "cell_type": "code",
   "execution_count": null,
   "metadata": {
    "vscode": {
     "languageId": "sql"
    }
   },
   "outputs": [],
   "source": [
    "SELECT\n",
    "product_id, store, price\n",
    "FROM\n",
    "(\n",
    "SELECT product_id, 'store1' as store, store1 as price FROM Products\n",
    "UNION ALL\n",
    "SELECT product_id, 'store2' as store, store2 as price FROM Products\n",
    "UNION ALL\n",
    "SELECT product_id, 'store3' as store, store3 as price FROM Products\n",
    ")as a\n",
    "WHERE a.store is not null and a.price is not null "
   ]
  },
  {
   "attachments": {},
   "cell_type": "markdown",
   "metadata": {},
   "source": [
    "608. Tree Node\n",
    "\n",
    "Table: Tree\n",
    "\n",
    "+-------------+------+\n",
    "\n",
    "| Column Name | Type |\n",
    "\n",
    "+-------------+------+\n",
    "\n",
    "| id          | int  |\n",
    "\n",
    "| p_id        | int  |\n",
    "\n",
    "+-------------+------+\n",
    "\n",
    "id is the primary key column for this table.\n",
    "Each row of this table contains information about the id of a node and the id of its parent node in a tree.\n",
    "The given structure is always a valid tree.\n",
    " \n",
    "\n",
    "Each node in the tree can be one of three types:\n",
    "\n",
    "\"Leaf\": if the node is a leaf node.\n",
    "\"Root\": if the node is the root of the tree.\n",
    "\"Inner\": If the node is neither a leaf node nor a root node.\n",
    "Write an SQL query to report the type of each node in the tree.\n",
    "\n",
    "Return the result table in any order.\n",
    "\n",
    "The query result format is in the following example.\n",
    "\n"
   ]
  },
  {
   "cell_type": "code",
   "execution_count": null,
   "metadata": {
    "vscode": {
     "languageId": "sql"
    }
   },
   "outputs": [],
   "source": [
    "SELECT\n",
    "a.id, type\n",
    "FROM\n",
    "(\n",
    "    SELECT id, \"Root\" as type FROM Tree WHERE p_id is null\n",
    "    UNION\n",
    "    SELECT t1.id as id1, \"Inner\" as type FROM Tree AS t1 LEFT JOIN Tree AS t2\n",
    "    ON (t1.id = t2.p_id) WHERE t2.id is not null and t1.p_id is not null\n",
    "    UNION\n",
    "    SELECT t1.id as id2, \"Leaf\" as type FROM Tree AS t1 LEFT JOIN Tree AS t2\n",
    "    ON (t1.id = t2.p_id) WHERE t2.id is null and t1.p_id is not null\n",
    ")as a"
   ]
  },
  {
   "attachments": {},
   "cell_type": "markdown",
   "metadata": {},
   "source": [
    "176. Second Highest Salary\n",
    "\n",
    "Table: Employee\n",
    "\n",
    "+-------------+------+\n",
    "\n",
    "| Column Name | Type |\n",
    "\n",
    "+-------------+------+\n",
    "\n",
    "| id          | int  |\n",
    "\n",
    "| salary      | int  |\n",
    "\n",
    "+-------------+------+\n",
    "\n",
    "id is the primary key column for this table.\n",
    "Each row of this table contains information about the salary of an employee.\n",
    " \n",
    "\n",
    "Write an SQL query to report the second highest salary from the Employee table. If there is no second highest salary, the query should report null."
   ]
  },
  {
   "cell_type": "code",
   "execution_count": null,
   "metadata": {
    "vscode": {
     "languageId": "sql"
    }
   },
   "outputs": [],
   "source": [
    "-- use DISTINCT salary to remove duplicate\n",
    "-- use LIMIT 1 OFFSET 1 to get the second highest salary\n",
    "-- use select within select to get null if there is no second highest salary\n",
    "SELECT\n",
    "(SELECT\n",
    "DISTINCT salary\n",
    "#FROM (SELECT * FROM Employee ORDER BY salary DESC LIMIT 2) as a\n",
    "FROM Employee\n",
    "ORDER BY salary DESC \n",
    "LIMIT 1 OFFSET 1) AS SecondHighestSalary"
   ]
  }
 ],
 "metadata": {
  "language_info": {
   "name": "python"
  },
  "orig_nbformat": 4
 },
 "nbformat": 4,
 "nbformat_minor": 2
}
