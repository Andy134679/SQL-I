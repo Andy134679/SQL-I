{
 "cells": [
  {
   "attachments": {},
   "cell_type": "markdown",
   "metadata": {},
   "source": [
    "595. Big Countries\n",
    "\n",
    "Table: World\n",
    "\n",
    "+-------------+---------+\n",
    "\n",
    "| Column Name | Type    |\n",
    "\n",
    "+-------------+---------+\n",
    "\n",
    "| name        | varchar |\n",
    "\n",
    "| continent   | varchar |\n",
    "\n",
    "| area        | int     |\n",
    "\n",
    "| population  | int     |\n",
    "\n",
    "| gdp         | bigint  |\n",
    "\n",
    "+-------------+---------+\n",
    "\n",
    "name is the primary key column for this table.\n",
    "Each row of this table gives information about the name of a country, the continent to which it belongs, its area, the population, and its GDP value.\n",
    " \n",
    "\n",
    "A country is big if:\n",
    "\n",
    "it has an area of at least three million (i.e., 3000000 km2), or\n",
    "it has a population of at least twenty-five million (i.e., 25000000).\n",
    "Write an SQL query to report the name, population, and area of the big countries.\n",
    "\n",
    "Return the result table in any order.\n",
    "\n",
    "The query result format is in the following example."
   ]
  },
  {
   "cell_type": "code",
   "execution_count": null,
   "metadata": {
    "vscode": {
     "languageId": "sql"
    }
   },
   "outputs": [],
   "source": [
    "SELECT\n",
    "name, population, area\n",
    "FROM World\n",
    "WHERE\n",
    "population >= 25000000 or area >= 3000000;"
   ]
  },
  {
   "attachments": {},
   "cell_type": "markdown",
   "metadata": {},
   "source": [
    "1757. Recyclable and Low Fat Products\n",
    "\n",
    "Table: Products\n",
    "\n",
    "+-------------+---------+\n",
    "\n",
    "| Column Name | Type    |\n",
    "\n",
    "+-------------+---------+\n",
    "\n",
    "| product_id  | int     |\n",
    "\n",
    "| low_fats    | enum    |\n",
    "\n",
    "| recyclable  | enum    |\n",
    "\n",
    "+-------------+---------+\n",
    "\n",
    "product_id is the primary key for this table.\n",
    "low_fats is an ENUM of type ('Y', 'N') where 'Y' means this product is low fat and 'N' means it is not.\n",
    "recyclable is an ENUM of types ('Y', 'N') where 'Y' means this product is recyclable and 'N' means it is not.\n",
    " \n",
    "\n",
    "Write an SQL query to find the ids of products that are both low fat and recyclable.\n",
    "\n",
    "Return the result table in any order.\n",
    "\n",
    "The query result format is in the following example."
   ]
  },
  {
   "cell_type": "code",
   "execution_count": null,
   "metadata": {
    "vscode": {
     "languageId": "sql"
    }
   },
   "outputs": [],
   "source": [
    "SELECT\n",
    "product_id\n",
    "FROM Products\n",
    "WHERE\n",
    "low_fats = 'Y' AND recyclable = 'Y';"
   ]
  },
  {
   "attachments": {},
   "cell_type": "markdown",
   "metadata": {},
   "source": [
    "584. Find Customer Referee\n",
    "\n",
    "Table: Customer\n",
    "\n",
    "+-------------+---------+\n",
    "\n",
    "| Column Name | Type    |\n",
    "\n",
    "+-------------+---------+\n",
    "\n",
    "| id          | int     |\n",
    "\n",
    "| name        | varchar |\n",
    "\n",
    "| referee_id  | int     |\n",
    "\n",
    "+-------------+---------+\n",
    "\n",
    "id is the primary key column for this table.\n",
    "Each row of this table indicates the id of a customer, their name, and the id of the customer who referred them.\n",
    " \n",
    "\n",
    "Write an SQL query to report the names of the customer that are not referred by the customer with id = 2.\n",
    "\n",
    "Return the result table in any order.\n",
    "\n",
    "The query result format is in the following example."
   ]
  },
  {
   "cell_type": "code",
   "execution_count": null,
   "metadata": {
    "vscode": {
     "languageId": "sql"
    }
   },
   "outputs": [],
   "source": [
    "SELECT\n",
    "name\n",
    "FROM Customer\n",
    "WHERE\n",
    "referee_id != 2 or referee_id is null;"
   ]
  },
  {
   "attachments": {},
   "cell_type": "markdown",
   "metadata": {},
   "source": [
    "183. Customers Who Never Order\n",
    "\n",
    "Table: Customers\n",
    "\n",
    "+-------------+---------+\n",
    "\n",
    "| Column Name | Type    |\n",
    "\n",
    "+-------------+---------+\n",
    "\n",
    "| id          | int     |\n",
    "\n",
    "| name        | varchar |\n",
    "\n",
    "+-------------+---------+\n",
    "\n",
    "id is the primary key column for this table.\n",
    "Each row of this table indicates the ID and name of a customer.\n",
    " \n",
    "\n",
    "Table: Orders\n",
    "\n",
    "+-------------+------+\n",
    "\n",
    "| Column Name | Type |\n",
    "\n",
    "+-------------+------+\n",
    "\n",
    "| id          | int  |\n",
    "\n",
    "| customerId  | int  |\n",
    "\n",
    "+-------------+------+\n",
    "\n",
    "id is the primary key column for this table.\n",
    "customerId is a foreign key of the ID from the Customers table.\n",
    "Each row of this table indicates the ID of an order and the ID of the customer who ordered it.\n",
    " \n",
    "\n",
    "Write an SQL query to report all customers who never order anything.\n",
    "\n",
    "Return the result table in any order.\n",
    "\n",
    "The query result format is in the following example."
   ]
  },
  {
   "cell_type": "code",
   "execution_count": null,
   "metadata": {
    "vscode": {
     "languageId": "sql"
    }
   },
   "outputs": [],
   "source": [
    "SELECT\n",
    "name as Customers\n",
    "FROM Customers c\n",
    "LEFT JOIN Orders o ON c.id = o.customerId\n",
    "WHERE\n",
    "o.id is null;"
   ]
  }
 ],
 "metadata": {
  "language_info": {
   "name": "python"
  },
  "orig_nbformat": 4
 },
 "nbformat": 4,
 "nbformat_minor": 2
}
