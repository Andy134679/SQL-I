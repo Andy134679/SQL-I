{
 "cells": [
  {
   "attachments": {},
   "cell_type": "markdown",
   "metadata": {},
   "source": [
    "1393. Capital Gain/Loss\n",
    "\n",
    "Table: Stocks\n",
    "\n",
    "+---------------+---------+\n",
    "\n",
    "| Column Name   | Type    |\n",
    "\n",
    "+---------------+---------+\n",
    "\n",
    "| stock_name    | varchar |\n",
    "\n",
    "| operation     | enum    |\n",
    "\n",
    "| operation_day | int     |\n",
    "\n",
    "| price         | int     |\n",
    "\n",
    "+---------------+---------+\n",
    "\n",
    "(stock_name, operation_day) is the primary key for this table.\n",
    "The operation column is an ENUM of type ('Sell', 'Buy')\n",
    "Each row of this table indicates that the stock which has stock_name had an operation on the day operation_day with the price.\n",
    "It is guaranteed that each 'Sell' operation for a stock has a corresponding 'Buy' operation in a previous day. It is also guaranteed that each 'Buy' operation for a stock has a corresponding 'Sell' operation in an upcoming day.\n",
    " \n",
    "\n",
    "Write an SQL query to report the Capital gain/loss for each stock.\n",
    "\n",
    "The Capital gain/loss of a stock is the total gain or loss after buying and selling the stock one or many times.\n",
    "\n",
    "Return the result table in any order."
   ]
  },
  {
   "cell_type": "code",
   "execution_count": null,
   "metadata": {
    "vscode": {
     "languageId": "sql"
    }
   },
   "outputs": [],
   "source": [
    "# Write your MySQL query statement below\n",
    "SELECT\n",
    "stock_name, sum(case when operation = 'Sell' THEN price else -price END) as capital_gain_loss\n",
    "FROM Stocks\n",
    "GROUP BY stock_name"
   ]
  },
  {
   "cell_type": "code",
   "execution_count": null,
   "metadata": {
    "vscode": {
     "languageId": "sql"
    }
   },
   "outputs": [],
   "source": [
    "WITH TotalBought AS (\n",
    "    SELECT stock_name, SUM(price) AS spent\n",
    "    FROM Stocks\n",
    "    WHERE operation = 'Buy'\n",
    "    GROUP BY stock_name\n",
    "),\n",
    "TotalSold AS (\n",
    "    SELECT stock_name , SUM(price) AS gained\n",
    "    FROM Stocks\n",
    "    WHERE operation = 'Sell'\n",
    "    GROUP BY stock_name\n",
    ")\n",
    "\n",
    "SELECT B.stock_name, gained - spent AS capital_gain_loss\n",
    "FROM TotalBought AS B\n",
    "JOIN TotalSold AS S\n",
    "ON B.stock_name = S.stock_name"
   ]
  },
  {
   "cell_type": "code",
   "execution_count": null,
   "metadata": {
    "vscode": {
     "languageId": "sql"
    }
   },
   "outputs": [],
   "source": [
    "SELECT DISTINCT stock_name, \n",
    "       SUM(CASE WHEN operation = 'Sell' THEN price ELSE -price END)\n",
    "       OVER(PARTITION BY stock_name) AS capital_gain_loss\n",
    "FROM Stocks"
   ]
  },
  {
   "attachments": {},
   "cell_type": "markdown",
   "metadata": {},
   "source": [
    "1407. Top Travellers\n",
    "\n",
    "Table: Users\n",
    "\n",
    "+---------------+---------+\n",
    "\n",
    "| Column Name   | Type    |\n",
    "\n",
    "+---------------+---------+\n",
    "\n",
    "| id            | int     |\n",
    "\n",
    "| name          | varchar |\n",
    "\n",
    "+---------------+---------+\n",
    "\n",
    "id is the primary key for this table.\n",
    "name is the name of the user.\n",
    " \n",
    "\n",
    "Table: Rides\n",
    "\n",
    "+---------------+---------+\n",
    "\n",
    "| Column Name   | Type    |\n",
    "\n",
    "+---------------+---------+\n",
    "\n",
    "| id            | int     |\n",
    "\n",
    "| user_id       | int     |\n",
    "\n",
    "| distance      | int     |\n",
    "\n",
    "+---------------+---------+\n",
    "\n",
    "id is the primary key for this table.\n",
    "user_id is the id of the user who traveled the distance \"distance\".\n",
    " \n",
    "\n",
    "Write an SQL query to report the distance traveled by each user.\n",
    "\n",
    "Return the result table ordered by travelled_distance in descending order, if two or more users traveled the same distance, order them by their name in ascending order."
   ]
  },
  {
   "cell_type": "code",
   "execution_count": null,
   "metadata": {
    "vscode": {
     "languageId": "sql"
    }
   },
   "outputs": [],
   "source": [
    "# Write your MySQL query statement below\n",
    "SELECT\n",
    "name, IFNULL(sum(distance), 0) as travelled_distance\n",
    "FROM Users as u LEFT JOIN Rides as r ON (u.id = r.user_id)\n",
    "GROUP BY user_id\n",
    "ORDER BY travelled_distance DESC, name ASC"
   ]
  },
  {
   "attachments": {},
   "cell_type": "markdown",
   "metadata": {},
   "source": [
    "1158. Market Analysis I\n",
    "\n",
    "Table: Users\n",
    "\n",
    "+----------------+---------+\n",
    "\n",
    "| Column Name    | Type    |\n",
    "\n",
    "+----------------+---------+\n",
    "\n",
    "| user_id        | int     |\n",
    "\n",
    "| join_date      | date    |\n",
    "\n",
    "| favorite_brand | varchar |\n",
    "\n",
    "+----------------+---------+\n",
    "\n",
    "user_id is the primary key of this table.\n",
    "This table has the info of the users of an online shopping website where users can sell and buy items.\n",
    " \n",
    "\n",
    "Table: Orders\n",
    "\n",
    "+---------------+---------+\n",
    "\n",
    "| Column Name   | Type    |\n",
    "\n",
    "+---------------+---------+\n",
    "\n",
    "| order_id      | int     |\n",
    "\n",
    "| order_date    | date    |\n",
    "\n",
    "| item_id       | int     |\n",
    "\n",
    "| buyer_id      | int     |\n",
    "\n",
    "| seller_id     | int     |\n",
    "\n",
    "+---------------+---------+\n",
    "\n",
    "order_id is the primary key of this table.\n",
    "item_id is a foreign key to the Items table.\n",
    "buyer_id and seller_id are foreign keys to the Users table.\n",
    " \n",
    "\n",
    "Table: Items\n",
    "\n",
    "+---------------+---------+\n",
    "\n",
    "| Column Name   | Type    |\n",
    "\n",
    "+---------------+---------+\n",
    "\n",
    "| item_id       | int     |\n",
    "\n",
    "| item_brand    | varchar |\n",
    "\n",
    "+---------------+---------+\n",
    "\n",
    "item_id is the primary key of this table.\n",
    " \n",
    "\n",
    "Write an SQL query to find for each user, the join date and the number of orders they made as a buyer in 2019.\n",
    "\n",
    "Return the result table in any order."
   ]
  },
  {
   "cell_type": "code",
   "execution_count": null,
   "metadata": {
    "vscode": {
     "languageId": "sql"
    }
   },
   "outputs": [],
   "source": [
    "# Write your MySQL query statement below\n",
    "SELECT\n",
    "user_id as buyer_id, MIN(join_date) as join_date, count(order_id) as orders_in_2019\n",
    "FROM Users as u LEFT JOIN Orders as o ON u.user_id = o.buyer_id AND YEAR(order_date) = 2019\n",
    "GROUP BY user_id"
   ]
  }
 ],
 "metadata": {
  "language_info": {
   "name": "python"
  },
  "orig_nbformat": 4
 },
 "nbformat": 4,
 "nbformat_minor": 2
}
