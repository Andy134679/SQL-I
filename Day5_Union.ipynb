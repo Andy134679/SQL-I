{
 "cells": [
  {
   "attachments": {},
   "cell_type": "markdown",
   "metadata": {},
   "source": [
    "175. Combine Two Tables\n",
    "\n",
    "Table: Person\n",
    "\n",
    "+-------------+---------+\n",
    "\n",
    "| Column Name | Type    |\n",
    "\n",
    "+-------------+---------+\n",
    "\n",
    "| personId    | int     |\n",
    "\n",
    "| lastName    | varchar |\n",
    "\n",
    "| firstName   | varchar |\n",
    "\n",
    "+-------------+---------+\n",
    "\n",
    "personId is the primary key column for this table.\n",
    "This table contains information about the ID of some persons and their first and last names.\n",
    " \n",
    "\n",
    "Table: Address\n",
    "\n",
    "+-------------+---------+\n",
    "\n",
    "| Column Name | Type    |\n",
    "\n",
    "+-------------+---------+\n",
    "\n",
    "| addressId   | int     |\n",
    "\n",
    "| personId    | int     |\n",
    "\n",
    "| city        | varchar |\n",
    "\n",
    "| state       | varchar |\n",
    "\n",
    "+-------------+---------+\n",
    "\n",
    "addressId is the primary key column for this table.\n",
    "Each row of this table contains information about the city and state of one person with ID = PersonId.\n",
    " \n",
    "\n",
    "Write an SQL query to report the first name, last name, city, and state of each person in the Person table. If the address of a personId is not present in the Address table, report null instead.\n",
    "\n",
    "Return the result table in any order."
   ]
  },
  {
   "cell_type": "code",
   "execution_count": null,
   "metadata": {
    "vscode": {
     "languageId": "sql"
    }
   },
   "outputs": [],
   "source": [
    "SELECT\n",
    "firstName, lastName, city, state\n",
    "FROM Person\n",
    "LEFT JOIN Address USING(personId)"
   ]
  },
  {
   "attachments": {},
   "cell_type": "markdown",
   "metadata": {},
   "source": [
    "1581. Customer Who Visited but Did Not Make Any Transactions\n",
    "\n",
    "Table: Visits\n",
    "\n",
    "+-------------+---------+\n",
    "\n",
    "| Column Name | Type    |\n",
    "\n",
    "+-------------+---------+\n",
    "\n",
    "| visit_id    | int     |\n",
    "\n",
    "| customer_id | int     |\n",
    "\n",
    "+-------------+---------+\n",
    "\n",
    "visit_id is the primary key for this table.\n",
    "This table contains information about the customers who visited the mall.\n",
    " \n",
    "\n",
    "Table: Transactions\n",
    "\n",
    "+----------------+---------+\n",
    "\n",
    "| Column Name    | Type    |\n",
    "\n",
    "+----------------+---------+\n",
    "\n",
    "| transaction_id | int     |\n",
    "\n",
    "| visit_id       | int     |\n",
    "\n",
    "| amount         | int     |\n",
    "\n",
    "+----------------+---------+\n",
    "\n",
    "transaction_id is the primary key for this table.\n",
    "This table contains information about the transactions made during the visit_id.\n",
    " \n",
    "\n",
    "Write a SQL query to find the IDs of the users who visited without making any transactions and the number of times they made these types of visits.\n",
    "\n",
    "Return the result table sorted in any order."
   ]
  },
  {
   "cell_type": "code",
   "execution_count": null,
   "metadata": {
    "vscode": {
     "languageId": "sql"
    }
   },
   "outputs": [],
   "source": [
    "SELECT\n",
    "DISTINCT customer_id, COUNT(visit_id) as count_no_trans\n",
    "FROM Visits LEFT JOIN Transactions USING(visit_id)\n",
    "WHERE transaction_id is null\n",
    "GROUP BY customer_id"
   ]
  },
  {
   "attachments": {},
   "cell_type": "markdown",
   "metadata": {},
   "source": [
    "1148. Article Views I\n",
    "\n",
    "Table: Views\n",
    "\n",
    "+---------------+---------+\n",
    "\n",
    "| Column Name   | Type    |\n",
    "\n",
    "+---------------+---------+\n",
    "\n",
    "| article_id    | int     |\n",
    "\n",
    "| author_id     | int     |\n",
    "\n",
    "| viewer_id     | int     |\n",
    "\n",
    "| view_date     | date    |\n",
    "\n",
    "+---------------+---------+\n",
    "\n",
    "There is no primary key for this table, it may have duplicate rows.\n",
    "Each row of this table indicates that some viewer viewed an article (written by some author) on some date. \n",
    "Note that equal author_id and viewer_id indicate the same person.\n",
    " \n",
    "\n",
    "Write an SQL query to find all the authors that viewed at least one of their own articles.\n",
    "\n",
    "Return the result table sorted by id in ascending order.\n",
    "\n"
   ]
  },
  {
   "cell_type": "code",
   "execution_count": null,
   "metadata": {
    "vscode": {
     "languageId": "sql"
    }
   },
   "outputs": [],
   "source": [
    "SELECT\n",
    "DISTINCT viewer_id as id\n",
    "FROM Views\n",
    "WHERE author_id = viewer_id\n",
    "ORDER BY id ASC"
   ]
  }
 ],
 "metadata": {
  "language_info": {
   "name": "python"
  },
  "orig_nbformat": 4
 },
 "nbformat": 4,
 "nbformat_minor": 2
}
