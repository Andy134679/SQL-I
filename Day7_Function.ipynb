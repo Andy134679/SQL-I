{
 "cells": [
  {
   "attachments": {},
   "cell_type": "markdown",
   "metadata": {},
   "source": [
    "1141. User Activity for the Past 30 Days I\n",
    "\n",
    "Table: Activity\n",
    "\n",
    "+---------------+---------+\n",
    "\n",
    "| Column Name   | Type    |\n",
    "\n",
    "+---------------+---------+\n",
    "\n",
    "| user_id       | int     |\n",
    "\n",
    "| session_id    | int     |\n",
    "\n",
    "| activity_date | date    |\n",
    "\n",
    "| activity_type | enum    |\n",
    "\n",
    "+---------------+---------+\n",
    "\n",
    "There is no primary key for this table, it may have duplicate rows.\n",
    "The activity_type column is an ENUM of type ('open_session', 'end_session', 'scroll_down', 'send_message').\n",
    "The table shows the user activities for a social media website. \n",
    "Note that each session belongs to exactly one user.\n",
    " \n",
    "\n",
    "Write an SQL query to find the daily active user count for a period of 30 days ending 2019-07-27 inclusively. A user was active on someday if they made at least one activity on that day.\n",
    "\n",
    "Return the result table in any order."
   ]
  },
  {
   "cell_type": "code",
   "execution_count": null,
   "metadata": {
    "vscode": {
     "languageId": "sql"
    }
   },
   "outputs": [],
   "source": [
    "# Write your MySQL query statement below\n",
    "SELECT\n",
    "activity_date as day, count(distinct user_id) as active_users\n",
    "FROM Activity\n",
    "WHERE activity_date between DATE_SUB(\"2019-07-27\", INTERVAL 29 DAY) and '2019-07-27'\n",
    "GROUP BY activity_date"
   ]
  },
  {
   "attachments": {},
   "cell_type": "markdown",
   "metadata": {},
   "source": [
    "1693. Daily Leads and Partners\n",
    "\n",
    "Table: DailySales\n",
    "\n",
    "+-------------+---------+\n",
    "\n",
    "| Column Name | Type    |\n",
    "\n",
    "+-------------+---------+\n",
    "\n",
    "| date_id     | date    |\n",
    "\n",
    "| make_name   | varchar |\n",
    "\n",
    "| lead_id     | int     |\n",
    "\n",
    "| partner_id  | int     |\n",
    "\n",
    "+-------------+---------+\n",
    "\n",
    "This table does not have a primary key.\n",
    "This table contains the date and the name of the product sold and the IDs of the lead and partner it was sold to.\n",
    "The name consists of only lowercase English letters.\n",
    " \n",
    "\n",
    "Write an SQL query that will, for each date_id and make_name, return the number of distinct lead_id's and distinct partner_id's.\n",
    "\n",
    "Return the result table in any order."
   ]
  },
  {
   "cell_type": "code",
   "execution_count": null,
   "metadata": {
    "vscode": {
     "languageId": "sql"
    }
   },
   "outputs": [],
   "source": [
    "# Write your MySQL query statement below\n",
    "SELECT\n",
    "date_id, make_name, COUNT(DISTINCT lead_id) as unique_leads, COUNT(DISTINCT partner_id) as unique_partners\n",
    "FROM DailySales\n",
    "GROUP BY date_id, make_name"
   ]
  },
  {
   "attachments": {},
   "cell_type": "markdown",
   "metadata": {},
   "source": [
    "1729. Find Followers Count\n",
    "\n",
    "Table: Followers\n",
    "\n",
    "+-------------+------+\n",
    "\n",
    "| Column Name | Type |\n",
    "\n",
    "+-------------+------+\n",
    "\n",
    "| user_id     | int  |\n",
    "\n",
    "| follower_id | int  |\n",
    "\n",
    "+-------------+------+\n",
    "\n",
    "(user_id, follower_id) is the primary key for this table.\n",
    "This table contains the IDs of a user and a follower in a social media app where the follower follows the user.\n",
    " \n",
    "\n",
    "Write an SQL query that will, for each user, return the number of followers.\n",
    "\n",
    "Return the result table ordered by user_id in ascending order."
   ]
  },
  {
   "cell_type": "code",
   "execution_count": null,
   "metadata": {
    "vscode": {
     "languageId": "sql"
    }
   },
   "outputs": [],
   "source": [
    "# Write your MySQL query statement below\n",
    "SELECT\n",
    "user_id, COUNT(DISTINCT follower_id) as followers_count\n",
    "FROM Followers\n",
    "GROUP BY user_id"
   ]
  }
 ],
 "metadata": {
  "language_info": {
   "name": "python"
  },
  "orig_nbformat": 4
 },
 "nbformat": 4,
 "nbformat_minor": 2
}
