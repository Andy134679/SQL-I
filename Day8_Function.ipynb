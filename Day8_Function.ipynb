{
 "cells": [
  {
   "attachments": {},
   "cell_type": "markdown",
   "metadata": {},
   "source": [
    "586. Customer Placing the Largest Number of Orders\n",
    "\n",
    "Table: Orders\n",
    "\n",
    "+-----------------+----------+\n",
    "\n",
    "| Column Name     | Type     |\n",
    "\n",
    "+-----------------+----------+\n",
    "\n",
    "| order_number    | int      |\n",
    "\n",
    "| customer_number | int      |\n",
    "\n",
    "+-----------------+----------+\n",
    "\n",
    "order_number is the primary key for this table.\n",
    "This table contains information about the order ID and the customer ID.\n",
    " \n",
    "\n",
    "Write an SQL query to find the customer_number for the customer who has placed the largest number of orders.\n",
    "\n",
    "The test cases are generated so that exactly one customer will have placed more orders than any other customer."
   ]
  },
  {
   "cell_type": "code",
   "execution_count": null,
   "metadata": {
    "vscode": {
     "languageId": "sql"
    }
   },
   "outputs": [],
   "source": [
    "# Write your MySQL query statement below\n",
    "SELECT\n",
    "customer_number\n",
    "FROM Orders\n",
    "GROUP BY customer_number\n",
    "ORDER BY count(customer_number) DESC\n",
    "LIMIT 1"
   ]
  },
  {
   "attachments": {},
   "cell_type": "markdown",
   "metadata": {},
   "source": [
    "511. Game Play Analysis I\n",
    "\n",
    "Table: Activity\n",
    "\n",
    "+--------------+---------+\n",
    "\n",
    "| Column Name  | Type    |\n",
    "\n",
    "+--------------+---------+\n",
    "\n",
    "| player_id    | int     |\n",
    "\n",
    "| device_id    | int     |\n",
    "\n",
    "| event_date   | date    |\n",
    "\n",
    "| games_played | int     |\n",
    "\n",
    "+--------------+---------+\n",
    "\n",
    "(player_id, event_date) is the primary key of this table.\n",
    "This table shows the activity of players of some games.\n",
    "Each row is a record of a player who logged in and played a number of games (possibly 0) before logging out on someday using some device.\n",
    " \n",
    "\n",
    "Write an SQL query to report the first login date for each player.\n",
    "\n",
    "Return the result table in any order."
   ]
  },
  {
   "cell_type": "code",
   "execution_count": null,
   "metadata": {
    "vscode": {
     "languageId": "sql"
    }
   },
   "outputs": [],
   "source": [
    "# Write your MySQL query statement below\n",
    "SELECT\n",
    "player_id, min(event_date) as first_login\n",
    "FROM Activity\n",
    "GROUP BY player_id"
   ]
  },
  {
   "cell_type": "code",
   "execution_count": null,
   "metadata": {
    "vscode": {
     "languageId": "sql"
    }
   },
   "outputs": [],
   "source": [
    "# Write your MySQL query statement below\n",
    "SELECT\n",
    "DISTINCT player_id, min(event_date) OVER (PARTITION BY player_id) as first_login\n",
    "FROM Activity"
   ]
  },
  {
   "attachments": {},
   "cell_type": "markdown",
   "metadata": {},
   "source": [
    "1890. The Latest Login in 2020\n",
    "\n",
    "Table: Logins\n",
    "\n",
    "+----------------+----------+\n",
    "\n",
    "| Column Name    | Type     |\n",
    "\n",
    "+----------------+----------+\n",
    "\n",
    "| user_id        | int      |\n",
    "\n",
    "| time_stamp     | datetime |\n",
    "\n",
    "+----------------+----------+\n",
    "\n",
    "(user_id, time_stamp) is the primary key for this table.\n",
    "Each row contains information about the login time for the user with ID user_id.\n",
    " \n",
    "\n",
    "Write an SQL query to report the latest login for all users in the year 2020. Do not include the users who did not login in 2020.\n",
    "\n",
    "Return the result table in any order."
   ]
  },
  {
   "cell_type": "code",
   "execution_count": null,
   "metadata": {
    "vscode": {
     "languageId": "sql"
    }
   },
   "outputs": [],
   "source": [
    "# Write your MySQL query statement below\n",
    "SELECT\n",
    "DISTINCT user_id, max(time_stamp) over (PARTITION BY user_id) as last_stamp\n",
    "FROM Logins\n",
    "WHERE YEAR(time_stamp) = 2020"
   ]
  },
  {
   "attachments": {},
   "cell_type": "markdown",
   "metadata": {},
   "source": [
    "1741. Find Total Time Spent by Each Employee\n",
    "\n",
    "Table: Employees\n",
    "\n",
    "+-------------+------+\n",
    "\n",
    "| Column Name | Type |\n",
    "\n",
    "+-------------+------+\n",
    "\n",
    "| emp_id      | int  |\n",
    "\n",
    "| event_day   | date |\n",
    "\n",
    "| in_time     | int  |\n",
    "\n",
    "| out_time    | int  |\n",
    "\n",
    "+-------------+------+\n",
    "\n",
    "(emp_id, event_day, in_time) is the primary key of this table.\n",
    "The table shows the employees' entries and exits in an office.\n",
    "event_day is the day at which this event happened, in_time is the minute at which the employee entered the office, and out_time is the minute at which they left the office.\n",
    "in_time and out_time are between 1 and 1440.\n",
    "It is guaranteed that no two events on the same day intersect in time, and in_time < out_time.\n",
    " \n",
    "\n",
    "Write an SQL query to calculate the total time in minutes spent by each employee on each day at the office. Note that within one day, an employee can enter and leave more than once. The time spent in the office for a single entry is out_time - in_time.\n",
    "\n",
    "Return the result table in any order."
   ]
  },
  {
   "cell_type": "code",
   "execution_count": null,
   "metadata": {
    "vscode": {
     "languageId": "sql"
    }
   },
   "outputs": [],
   "source": [
    "# Write your MySQL query statement below\n",
    "SELECT\n",
    "event_day as day, emp_id, sum(out_time - in_time) as total_time\n",
    "FROM Employees\n",
    "GROUP BY event_day, emp_id"
   ]
  }
 ],
 "metadata": {
  "language_info": {
   "name": "python"
  },
  "orig_nbformat": 4
 },
 "nbformat": 4,
 "nbformat_minor": 2
}
