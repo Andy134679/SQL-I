{
 "cells": [
  {
   "attachments": {},
   "cell_type": "markdown",
   "metadata": {},
   "source": [
    "197. Rising Temperature\n",
    "\n",
    "Table: Weather\n",
    "\n",
    "+---------------+---------+\n",
    "\n",
    "| Column Name   | Type    |\n",
    "\n",
    "+---------------+---------+\n",
    "\n",
    "| id            | int     |\n",
    "\n",
    "| recordDate    | date    |\n",
    "\n",
    "| temperature   | int     |\n",
    "\n",
    "+---------------+---------+\n",
    "\n",
    "id is the primary key for this table.\n",
    "This table contains information about the temperature on a certain day.\n",
    " \n",
    "\n",
    "Write an SQL query to find all dates' Id with higher temperatures compared to its previous dates (yesterday).\n",
    "\n",
    "Return the result table in any order.\n",
    "\n"
   ]
  },
  {
   "cell_type": "code",
   "execution_count": null,
   "metadata": {
    "vscode": {
     "languageId": "sql"
    }
   },
   "outputs": [],
   "source": [
    "SELECT\n",
    "w2.id\n",
    "FROM Weather as w1, Weather as w2\n",
    "WHERE datediff(w2.recordDate, w1.recordDate) = 1 AND w2.temperature > w1.temperature"
   ]
  },
  {
   "attachments": {},
   "cell_type": "markdown",
   "metadata": {},
   "source": [
    "607. Sales Person\n",
    "\n",
    "Table: SalesPerson\n",
    "\n",
    "+-----------------+---------+\n",
    "\n",
    "| Column Name     | Type    |\n",
    "\n",
    "+-----------------+---------+\n",
    "\n",
    "| sales_id        | int     |\n",
    "\n",
    "| name            | varchar |\n",
    "\n",
    "| salary          | int     |\n",
    "\n",
    "| commission_rate | int     |\n",
    "\n",
    "| hire_date       | date    |\n",
    "\n",
    "+-----------------+---------+\n",
    "\n",
    "sales_id is the primary key column for this table.\n",
    "Each row of this table indicates the name and the ID of a salesperson alongside their salary, commission rate, and hire date.\n",
    " \n",
    "\n",
    "Table: Company\n",
    "\n",
    "+-------------+---------+\n",
    "\n",
    "| Column Name | Type    |\n",
    "\n",
    "+-------------+---------+\n",
    "\n",
    "| com_id      | int     |\n",
    "\n",
    "| name        | varchar |\n",
    "\n",
    "| city        | varchar |\n",
    "\n",
    "+-------------+---------+\n",
    "\n",
    "com_id is the primary key column for this table.\n",
    "Each row of this table indicates the name and the ID of a company and the city in which the company is located.\n",
    " \n",
    "\n",
    "Table: Orders\n",
    "\n",
    "+-------------+------+\n",
    "\n",
    "| Column Name | Type |\n",
    "\n",
    "+-------------+------+\n",
    "\n",
    "| order_id    | int  |\n",
    "\n",
    "| order_date  | date |\n",
    "\n",
    "| com_id      | int  |\n",
    "\n",
    "| sales_id    | int  |\n",
    "\n",
    "| amount      | int  |\n",
    "\n",
    "+-------------+------+\n",
    "\n",
    "order_id is the primary key column for this table.\n",
    "com_id is a foreign key to com_id from the Company table.\n",
    "sales_id is a foreign key to sales_id from the SalesPerson table.\n",
    "Each row of this table contains information about one order. This includes the ID of the company, the ID of the salesperson, the date of the order, and the amount paid.\n",
    " \n",
    "\n",
    "Write an SQL query to report the names of all the salespersons who did not have any orders related to the company with the name \"RED\".\n",
    "\n",
    "Return the result table in any order."
   ]
  },
  {
   "cell_type": "code",
   "execution_count": null,
   "metadata": {
    "vscode": {
     "languageId": "sql"
    }
   },
   "outputs": [],
   "source": [
    "SELECT\n",
    "DISTINCT s.name\n",
    "FROM SalesPerson as s\n",
    "WHERE s.sales_id not in (\n",
    "  SELECT\n",
    "  s.sales_id\n",
    "  FROM  SalesPerson as s \n",
    "  LEFT JOIN Orders as o USING(sales_id) \n",
    "  LEFT JOIN Company as c USING(com_id)\n",
    "  WHERE c.name = 'RED')"
   ]
  }
 ],
 "metadata": {
  "language_info": {
   "name": "python"
  },
  "orig_nbformat": 4
 },
 "nbformat": 4,
 "nbformat_minor": 2
}
